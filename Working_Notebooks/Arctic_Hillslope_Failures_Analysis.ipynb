{
 "cells": [
  {
   "cell_type": "markdown",
   "id": "b9bc555b",
   "metadata": {},
   "source": [
    "\n",
    "# Arctic Hillslope Failures Analysis\n",
    "## NDVI-Based Research Expedition for Identifying Potential Slumps\n",
    "\n",
    "### Introduction\n",
    "This notebook documents the analysis performed on Sentinel-2 imagery data from site `s001` to identify areas prone to hillslope failures, also known as slumps. The analysis primarily focuses on NDVI (Normalized Difference Vegetation Index) calculations to monitor vegetation health over time, detecting significant changes that may indicate environmental stress.\n"
   ]
  },
  {
   "cell_type": "markdown",
   "id": "c0c426da",
   "metadata": {},
   "source": [
    "### 1. Data Loading and Preparation"
   ]
  },
  {
   "cell_type": "code",
   "execution_count": 2,
   "id": "2cccb827",
   "metadata": {},
   "outputs": [
    {
     "ename": "FileNotFoundError",
     "evalue": "[Errno 2] No such file or directory: '/Users/joshuapiesner/Documents/GitHub/Math76_FinalProject_data/Data/Sentinel-s001'",
     "output_type": "error",
     "traceback": [
      "\u001b[0;31m---------------------------------------------------------------------------\u001b[0m",
      "\u001b[0;31mFileNotFoundError\u001b[0m                         Traceback (most recent call last)",
      "Cell \u001b[0;32mIn[2], line 11\u001b[0m\n\u001b[1;32m      8\u001b[0m data_dir \u001b[38;5;241m=\u001b[39m \u001b[38;5;124m'\u001b[39m\u001b[38;5;124m/Users/joshuapiesner/Documents/GitHub/Math76_FinalProject_data/Data/Sentinel-s001\u001b[39m\u001b[38;5;124m'\u001b[39m  \u001b[38;5;66;03m# Path to sentinal s001 data\u001b[39;00m\n\u001b[1;32m     10\u001b[0m \u001b[38;5;66;03m# List all the Sentinel-2 .tif files\u001b[39;00m\n\u001b[0;32m---> 11\u001b[0m tif_files \u001b[38;5;241m=\u001b[39m \u001b[38;5;28msorted\u001b[39m([f \u001b[38;5;28;01mfor\u001b[39;00m f \u001b[38;5;129;01min\u001b[39;00m \u001b[43mos\u001b[49m\u001b[38;5;241;43m.\u001b[39;49m\u001b[43mlistdir\u001b[49m\u001b[43m(\u001b[49m\u001b[43mdata_dir\u001b[49m\u001b[43m)\u001b[49m \u001b[38;5;28;01mif\u001b[39;00m f\u001b[38;5;241m.\u001b[39mendswith(\u001b[38;5;124m'\u001b[39m\u001b[38;5;124m.tif\u001b[39m\u001b[38;5;124m'\u001b[39m)])\n\u001b[1;32m     13\u001b[0m \u001b[38;5;66;03m# Initialize a dictionary to store NDVI results by date\u001b[39;00m\n\u001b[1;32m     14\u001b[0m ndvi_by_date \u001b[38;5;241m=\u001b[39m {}\n",
      "\u001b[0;31mFileNotFoundError\u001b[0m: [Errno 2] No such file or directory: '/Users/joshuapiesner/Documents/GitHub/Math76_FinalProject_data/Data/Sentinel-s001'"
     ]
    }
   ],
   "source": [
    "\n",
    "import os\n",
    "import rasterio\n",
    "import numpy as np\n",
    "import matplotlib.pyplot as plt\n",
    "import pandas as pd\n",
    "\n",
    "# Path to the directory containing Sentinel data\n",
    "data_dir = '/Users/joshuapiesner/Documents/GitHub/Math76_FinalProject/Data/Sentinel-s001'  # Path to sentinal s001 data\n",
    "\n",
    "# List all the Sentinel-2 .tif files\n",
    "tif_files = sorted([f for f in os.listdir(data_dir) if f.endswith('.tif')])\n",
    "\n",
    "# Initialize a dictionary to store NDVI results by date\n",
    "ndvi_by_date = {}\n",
    "\n",
    "# Loop over each .tif file, calculate NDVI, and store the results\n",
    "for tif_file in tif_files:\n",
    "    tif_path = os.path.join(data_dir, tif_file)\n",
    "    with rasterio.open(tif_path) as src:\n",
    "        raster_data = src.read()\n",
    "        red_band = raster_data[2]  # Band 3 is typically Red\n",
    "        nir_band = raster_data[3]  # Band 4 is typically NIR\n",
    "        ndvi = (nir_band.astype(float) - red_band.astype(float)) / (nir_band + red_band)\n",
    "        date = tif_file.split('_')[1].split('.')[0]  # Extract date from filename\n",
    "        ndvi_by_date[date] = ndvi\n",
    "\n",
    "# Display metadata from one file\n",
    "with rasterio.open(os.path.join(data_dir, tif_files[0])) as src:\n",
    "    raster_meta = src.meta\n",
    "raster_meta\n"
   ]
  },
  {
   "cell_type": "markdown",
   "id": "7e563265",
   "metadata": {},
   "source": [
    "### 2. NDVI Calculation and Visualization"
   ]
  },
  {
   "cell_type": "code",
   "execution_count": null,
   "id": "0d745e9c",
   "metadata": {},
   "outputs": [],
   "source": [
    "\n",
    "# Display all NDVI maps over time\n",
    "fig, axs = plt.subplots(nrows=len(ndvi_by_date)//3 + 1, ncols=3, figsize=(18, 18))\n",
    "fig.suptitle('NDVI Over Time for Site s001', fontsize=16)\n",
    "\n",
    "for ax, (date, ndvi_map) in zip(axs.flatten(), ndvi_by_date.items()):\n",
    "    im = ax.imshow(ndvi_map, cmap='RdYlGn', vmin=-1, vmax=1)\n",
    "    ax.set_title(date)\n",
    "    ax.axis('off')\n",
    "\n",
    "fig.colorbar(im, ax=axs, fraction=0.02, pad=0.04)\n",
    "plt.tight_layout(rect=[0, 0, 1, 0.97])\n",
    "plt.show()\n"
   ]
  },
  {
   "cell_type": "markdown",
   "id": "315f0ff3",
   "metadata": {},
   "source": [
    "### 3. Temporal NDVI Analysis"
   ]
  },
  {
   "cell_type": "code",
   "execution_count": null,
   "id": "2022e02f",
   "metadata": {},
   "outputs": [],
   "source": [
    "\n",
    "# Calculate the mean NDVI for each date\n",
    "mean_ndvi = {date: np.nanmean(ndvi_map) for date, ndvi_map in ndvi_by_date.items()}\n",
    "\n",
    "# Convert the results to a DataFrame\n",
    "ndvi_df = pd.DataFrame(list(mean_ndvi.items()), columns=['Date', 'Mean_NDVI'])\n",
    "ndvi_df['Date'] = pd.to_datetime(ndvi_df['Date'])\n",
    "\n",
    "# Sort the DataFrame by date\n",
    "ndvi_df = ndvi_df.sort_values('Date')\n",
    "\n",
    "# Plotting the NDVI time series\n",
    "plt.figure(figsize=(12, 6))\n",
    "plt.plot(ndvi_df['Date'], ndvi_df['Mean_NDVI'], marker='o', linestyle='-', color='green')\n",
    "plt.title('Mean NDVI Over Time for Site s001')\n",
    "plt.xlabel('Date')\n",
    "plt.ylabel('Mean NDVI')\n",
    "plt.grid(True)\n",
    "plt.show()\n",
    "\n",
    "ndvi_df\n"
   ]
  },
  {
   "cell_type": "markdown",
   "id": "945b2f9e",
   "metadata": {},
   "source": [
    "### 4. NDVI Change Detection"
   ]
  },
  {
   "cell_type": "code",
   "execution_count": null,
   "id": "e33e084d",
   "metadata": {},
   "outputs": [],
   "source": [
    "\n",
    "# Calculate the difference in NDVI between the earliest and latest dates\n",
    "earliest_date = min(ndvi_by_date.keys())\n",
    "latest_date = max(ndvi_by_date.keys())\n",
    "\n",
    "ndvi_change = ndvi_by_date[latest_date] - ndvi_by_date[earliest_date]\n",
    "\n",
    "# Plot the NDVI change map\n",
    "plt.figure(figsize=(10, 8))\n",
    "plt.imshow(ndvi_change, cmap='RdYlBu', vmin=-1, vmax=1)\n",
    "plt.colorbar(label='NDVI Change (Latest - Earliest)')\n",
    "plt.title('NDVI Change Between {} and {}'.format(earliest_date, latest_date))\n",
    "plt.axis('off')\n",
    "plt.show()\n"
   ]
  },
  {
   "cell_type": "markdown",
   "id": "2a447fcf",
   "metadata": {},
   "source": [
    "### 5. High-Risk Zones Identification"
   ]
  },
  {
   "cell_type": "code",
   "execution_count": null,
   "id": "bae7a07b",
   "metadata": {},
   "outputs": [],
   "source": [
    "\n",
    "# Define a threshold for significant NDVI decline\n",
    "threshold = -0.2\n",
    "\n",
    "# Create a binary mask for significant NDVI decreases\n",
    "high_risk_zones = ndvi_change < threshold\n",
    "\n",
    "# Plot the high-risk zones on the NDVI change map\n",
    "plt.figure(figsize=(10, 8))\n",
    "plt.imshow(ndvi_change, cmap='RdYlBu', vmin=-1, vmax=1)\n",
    "plt.imshow(high_risk_zones, cmap='Reds', alpha=0.5)\n",
    "plt.colorbar(label='NDVI Change (Latest - Earliest)')\n",
    "plt.title('High-Risk Zones for Slumps (NDVI Decrease > 0.2)')\n",
    "plt.axis('off')\n",
    "plt.show()\n",
    "\n",
    "# Calculate the area of high-risk zones\n",
    "high_risk_area = np.sum(high_risk_zones) * (raster_meta['transform'][0] ** 2)  # Area in square meters\n",
    "high_risk_area\n"
   ]
  },
  {
   "cell_type": "markdown",
   "id": "8b8db381",
   "metadata": {},
   "source": [
    "### 6. Conclusion and Recommendations"
   ]
  },
  {
   "cell_type": "markdown",
   "id": "3e9f4dac",
   "metadata": {},
   "source": [
    "\n",
    "The analysis identifies areas with significant vegetation loss over time, suggesting potential hillslope failures or slumping. These high-risk zones should be monitored closely, and additional data such as a Digital Elevation Model (DEM) could further refine the analysis.\n"
   ]
  }
 ],
 "metadata": {
  "kernelspec": {
   "display_name": "venv",
   "language": "python",
   "name": "python3"
  },
  "language_info": {
   "codemirror_mode": {
    "name": "ipython",
    "version": 3
   },
   "file_extension": ".py",
   "mimetype": "text/x-python",
   "name": "python",
   "nbconvert_exporter": "python",
   "pygments_lexer": "ipython3",
   "version": "3.12.3"
  }
 },
 "nbformat": 4,
 "nbformat_minor": 5
}
